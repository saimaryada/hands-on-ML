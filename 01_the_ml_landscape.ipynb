{
  "nbformat": 4,
  "nbformat_minor": 0,
  "metadata": {
    "colab": {
      "provenance": [],
      "authorship_tag": "ABX9TyNSzYYB7ibumSlqJBIKXeBt",
      "include_colab_link": true
    },
    "kernelspec": {
      "name": "python3",
      "display_name": "Python 3"
    },
    "language_info": {
      "name": "python"
    }
  },
  "cells": [
    {
      "cell_type": "markdown",
      "metadata": {
        "id": "view-in-github",
        "colab_type": "text"
      },
      "source": [
        "<a href=\"https://colab.research.google.com/github/saimaryada/hands-on-ML/blob/main/01_the_ml_landscape.ipynb\" target=\"_parent\"><img src=\"https://colab.research.google.com/assets/colab-badge.svg\" alt=\"Open In Colab\"/></a>"
      ]
    },
    {
      "cell_type": "code",
      "execution_count": 1,
      "metadata": {
        "id": "JYbbW7-aI0IE"
      },
      "outputs": [],
      "source": [
        "import sys\n",
        "\n",
        "assert sys.version_info >= (3, 7)"
      ]
    },
    {
      "cell_type": "code",
      "source": [
        "from packaging import version\n",
        "import sklearn\n",
        "\n",
        "assert version.parse(sklearn.__version__) >= version.parse(\"1.0.1\")"
      ],
      "metadata": {
        "id": "gUDaGPSiKxX0"
      },
      "execution_count": 2,
      "outputs": []
    },
    {
      "cell_type": "code",
      "source": [
        "import matplotlib.pyplot as plt\n",
        "\n",
        "plt.rc('font', size=12)\n",
        "plt.rc('axes', labelsize=14, titlesize=14)\n",
        "plt.rc('legend', fontsize=12)\n",
        "plt.rc('xtick', labelsize=10)\n",
        "plt.rc('ytick', labelsize=10)"
      ],
      "metadata": {
        "id": "D2z5sBIILLco"
      },
      "execution_count": 3,
      "outputs": []
    },
    {
      "cell_type": "code",
      "source": [
        "import numpy as np\n",
        "\n",
        "np.random.seed(42)"
      ],
      "metadata": {
        "id": "YdaOD82zLRQA"
      },
      "execution_count": 4,
      "outputs": []
    },
    {
      "cell_type": "code",
      "source": [
        "import matplotlib.pyplot as plt\n",
        "import numpy as np\n",
        "import pandas as pd\n",
        "from sklearn.linear_model import LinearRegression\n",
        "\n",
        "# Download and prepare the data\n",
        "data_root = \"https://github.com/ageron/data/raw/main/\"\n",
        "lifesat = pd.read_csv(data_root + \"lifesat/lifesat.csv\")\n",
        "print(lifesat.head())\n",
        "print(lifesat.describe())\n",
        "X = lifesat[[\"GDP per capita (USD)\"]].values\n",
        "y = lifesat[[\"Life satisfaction\"]].values\n",
        "\n",
        "print(X.shape)\n",
        "print(y.shape)\n",
        "# Visualize the data\n",
        "lifesat.plot(kind='scatter', grid=True,\n",
        "             x=\"GDP per capita (USD)\", y=\"Life satisfaction\")\n",
        "plt.axis([23_500, 62_500, 4, 9])\n",
        "plt.show()\n",
        "\n",
        "# Select a linear model\n",
        "model = LinearRegression()\n",
        "\n",
        "# Train the model\n",
        "model.fit(X, y)\n",
        "print(model.coef_)\n",
        "print(model.intercept_)\n",
        "# Make a prediction for Cyprus\n",
        "X_new = [[37_655.2]]  # Cyprus' GDP per capita in 2020\n",
        "print(model.predict(X_new)) # outputs [[6.30165767]]"
      ],
      "metadata": {
        "colab": {
          "base_uri": "https://localhost:8080/",
          "height": 807
        },
        "id": "R_uljQeCLYHL",
        "outputId": "d0b49dcf-ceb6-45a4-e124-32bdbdc64a0b"
      },
      "execution_count": 17,
      "outputs": [
        {
          "output_type": "stream",
          "name": "stdout",
          "text": [
            "   Country  GDP per capita (USD)  Life satisfaction\n",
            "0   Russia          26456.387938                5.8\n",
            "1   Greece          27287.083401                5.4\n",
            "2   Turkey          28384.987785                5.5\n",
            "3   Latvia          29932.493910                5.9\n",
            "4  Hungary          31007.768407                5.6\n",
            "       GDP per capita (USD)  Life satisfaction\n",
            "count             27.000000          27.000000\n",
            "mean           41564.521771           6.566667\n",
            "std             9631.452319           0.765607\n",
            "min            26456.387938           5.400000\n",
            "25%            33938.289305           5.900000\n",
            "50%            41627.129269           6.800000\n",
            "75%            49690.580269           7.300000\n",
            "max            60235.728492           7.600000\n",
            "(27, 1)\n",
            "(27, 1)\n"
          ]
        },
        {
          "output_type": "display_data",
          "data": {
            "text/plain": [
              "<Figure size 640x480 with 1 Axes>"
            ],
            "image/png": "[encoded data removed]"
          },
          "metadata": {}
        },
        {
          "output_type": "stream",
          "name": "stdout",
          "text": [
            "[[6.77889969e-05]]\n",
            "[3.74904943]\n",
            "[[6.30165767]]\n"
          ]
        }
      ]
    },
    {
      "cell_type": "code",
      "source": [
        "from sklearn.neighbors import KNeighborsRegressor\n",
        "\n",
        "model = KNeighborsRegressor(n_neighbors=3)"
      ],
      "metadata": {
        "id": "OnlD0qsDY3Mx"
      },
      "execution_count": 18,
      "outputs": []
    },
    {
      "cell_type": "code",
      "source": [
        "# Select a 3-Nearest Neighbors regression model\n",
        "from sklearn.neighbors import KNeighborsRegressor\n",
        "\n",
        "model = KNeighborsRegressor(n_neighbors=3)\n",
        "\n",
        "# Train the model\n",
        "model.fit(X, y)\n",
        "\n",
        "# Make a prediction for Cyprus\n",
        "print(model.predict(X_new)) # outputs [[6.33333333]]\n"
      ],
      "metadata": {
        "colab": {
          "base_uri": "https://localhost:8080/"
        },
        "id": "scyiA5CiY6c8",
        "outputId": "3d2e5bba-08ee-4c4e-bba6-bffccfd632f0"
      },
      "execution_count": 19,
      "outputs": [
        {
          "output_type": "stream",
          "name": "stdout",
          "text": [
            "[[6.33333333]]\n"
          ]
        }
      ]
    }
  ]
}